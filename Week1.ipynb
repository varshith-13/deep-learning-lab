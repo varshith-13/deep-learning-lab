{
  "nbformat": 4,
  "nbformat_minor": 0,
  "metadata": {
    "colab": {
      "provenance": [],
      "authorship_tag": "ABX9TyNWbjNZrLAfat1rDur2dvEn",
      "include_colab_link": true
    },
    "kernelspec": {
      "name": "python3",
      "display_name": "Python 3"
    },
    "language_info": {
      "name": "python"
    }
  },
  "cells": [
    {
      "cell_type": "markdown",
      "metadata": {
        "id": "view-in-github",
        "colab_type": "text"
      },
      "source": [
        "<a href=\"https://colab.research.google.com/github/varshith-13/deep-learning-lab/blob/main/Week1.ipynb\" target=\"_parent\"><img src=\"https://colab.research.google.com/assets/colab-badge.svg\" alt=\"Open In Colab\"/></a>"
      ]
    },
    {
      "cell_type": "code",
      "execution_count": 1,
      "metadata": {
        "colab": {
          "base_uri": "https://localhost:8080/"
        },
        "id": "SnuDoOfsxvaG",
        "outputId": "1e8c4538-cb48-4dc9-f525-476ba4471d88"
      },
      "outputs": [
        {
          "output_type": "stream",
          "name": "stdout",
          "text": [
            "[ 1.          1.09090909  1.18181818  1.27272727  1.36363636  1.45454545\n",
            "  1.54545455  1.63636364  1.72727273  1.81818182  1.90909091  2.\n",
            "  2.09090909  2.18181818  2.27272727  2.36363636  2.45454545  2.54545455\n",
            "  2.63636364  2.72727273  2.81818182  2.90909091  3.          3.09090909\n",
            "  3.18181818  3.27272727  3.36363636  3.45454545  3.54545455  3.63636364\n",
            "  3.72727273  3.81818182  3.90909091  4.          4.09090909  4.18181818\n",
            "  4.27272727  4.36363636  4.45454545  4.54545455  4.63636364  4.72727273\n",
            "  4.81818182  4.90909091  5.          5.09090909  5.18181818  5.27272727\n",
            "  5.36363636  5.45454545  5.54545455  5.63636364  5.72727273  5.81818182\n",
            "  5.90909091  6.          6.09090909  6.18181818  6.27272727  6.36363636\n",
            "  6.45454545  6.54545455  6.63636364  6.72727273  6.81818182  6.90909091\n",
            "  7.          7.09090909  7.18181818  7.27272727  7.36363636  7.45454545\n",
            "  7.54545455  7.63636364  7.72727273  7.81818182  7.90909091  8.\n",
            "  8.09090909  8.18181818  8.27272727  8.36363636  8.45454545  8.54545455\n",
            "  8.63636364  8.72727273  8.81818182  8.90909091  9.          9.09090909\n",
            "  9.18181818  9.27272727  9.36363636  9.45454545  9.54545455  9.63636364\n",
            "  9.72727273  9.81818182  9.90909091 10.        ]\n",
            "[21.87361349 22.75460845 22.09905904 22.75927781 21.42102783 23.08860966\n",
            " 23.58937276 25.28021887 23.38460344 23.50047079 24.16627501 23.72131207\n",
            " 23.64719169 25.02792936 24.37571967 25.35440572 24.95567902 23.91226318\n",
            " 26.16808555 24.46367895 24.78773081 24.77862175 26.51645278 26.93648423\n",
            " 27.45993678 26.26054105 26.35551755 25.83603991 27.43179999 28.47430583\n",
            " 27.56834387 27.32744378 29.19872579 28.06766616 27.80484444 27.82866284\n",
            " 27.83355443 27.64958513 29.11399938 28.71072189 28.50263467 31.18493241\n",
            " 29.71701926 28.68680545 30.62263888 27.87954267 28.99399877 30.1359109\n",
            " 30.31873419 31.07983662 31.58104673 29.22815122 31.31468014 31.10430915\n",
            " 31.51115732 31.62520858 30.76784547 32.70130403 31.16273713 33.90433916\n",
            " 33.12458448 32.55905897 32.60839542 33.3900942  36.64200525 33.322786\n",
            " 34.32960653 34.72482432 35.34791519 33.59572372 33.65832736 34.77415002\n",
            " 34.54283797 35.37047612 35.76526036 35.53995601 35.93226236 37.21514017\n",
            " 35.97479364 36.73467001 36.12006044 36.98894121 37.32189154 36.31822103\n",
            " 36.99236488 38.45079776 36.39656393 39.53236155 37.35979844 38.73001755\n",
            " 37.03521525 40.31993615 39.86610894 39.48068157 39.40964542 38.74340341\n",
            " 40.80442139 40.17602096 39.61467418 40.14399486]\n"
          ]
        }
      ],
      "source": [
        "import numpy as np\n",
        "import matplotlib.pyplot as plt\n",
        "from keras.models import Sequential\n",
        "from keras.layers import Dense\n",
        "\n",
        "X = np.linspace(1, 10, 100)\n",
        "y = 2*X+20+np.random.randn(100)\n",
        "print(f'{X}\\n{y}')"
      ]
    },
    {
      "cell_type": "code",
      "source": [
        "X.reshape(-1, 1)"
      ],
      "metadata": {
        "colab": {
          "base_uri": "https://localhost:8080/"
        },
        "id": "P_O8LPtVxygS",
        "outputId": "11f01f1a-b16a-4c07-916c-b8b57248e22e"
      },
      "execution_count": 2,
      "outputs": [
        {
          "output_type": "execute_result",
          "data": {
            "text/plain": [
              "array([[ 1.        ],\n",
              "       [ 1.09090909],\n",
              "       [ 1.18181818],\n",
              "       [ 1.27272727],\n",
              "       [ 1.36363636],\n",
              "       [ 1.45454545],\n",
              "       [ 1.54545455],\n",
              "       [ 1.63636364],\n",
              "       [ 1.72727273],\n",
              "       [ 1.81818182],\n",
              "       [ 1.90909091],\n",
              "       [ 2.        ],\n",
              "       [ 2.09090909],\n",
              "       [ 2.18181818],\n",
              "       [ 2.27272727],\n",
              "       [ 2.36363636],\n",
              "       [ 2.45454545],\n",
              "       [ 2.54545455],\n",
              "       [ 2.63636364],\n",
              "       [ 2.72727273],\n",
              "       [ 2.81818182],\n",
              "       [ 2.90909091],\n",
              "       [ 3.        ],\n",
              "       [ 3.09090909],\n",
              "       [ 3.18181818],\n",
              "       [ 3.27272727],\n",
              "       [ 3.36363636],\n",
              "       [ 3.45454545],\n",
              "       [ 3.54545455],\n",
              "       [ 3.63636364],\n",
              "       [ 3.72727273],\n",
              "       [ 3.81818182],\n",
              "       [ 3.90909091],\n",
              "       [ 4.        ],\n",
              "       [ 4.09090909],\n",
              "       [ 4.18181818],\n",
              "       [ 4.27272727],\n",
              "       [ 4.36363636],\n",
              "       [ 4.45454545],\n",
              "       [ 4.54545455],\n",
              "       [ 4.63636364],\n",
              "       [ 4.72727273],\n",
              "       [ 4.81818182],\n",
              "       [ 4.90909091],\n",
              "       [ 5.        ],\n",
              "       [ 5.09090909],\n",
              "       [ 5.18181818],\n",
              "       [ 5.27272727],\n",
              "       [ 5.36363636],\n",
              "       [ 5.45454545],\n",
              "       [ 5.54545455],\n",
              "       [ 5.63636364],\n",
              "       [ 5.72727273],\n",
              "       [ 5.81818182],\n",
              "       [ 5.90909091],\n",
              "       [ 6.        ],\n",
              "       [ 6.09090909],\n",
              "       [ 6.18181818],\n",
              "       [ 6.27272727],\n",
              "       [ 6.36363636],\n",
              "       [ 6.45454545],\n",
              "       [ 6.54545455],\n",
              "       [ 6.63636364],\n",
              "       [ 6.72727273],\n",
              "       [ 6.81818182],\n",
              "       [ 6.90909091],\n",
              "       [ 7.        ],\n",
              "       [ 7.09090909],\n",
              "       [ 7.18181818],\n",
              "       [ 7.27272727],\n",
              "       [ 7.36363636],\n",
              "       [ 7.45454545],\n",
              "       [ 7.54545455],\n",
              "       [ 7.63636364],\n",
              "       [ 7.72727273],\n",
              "       [ 7.81818182],\n",
              "       [ 7.90909091],\n",
              "       [ 8.        ],\n",
              "       [ 8.09090909],\n",
              "       [ 8.18181818],\n",
              "       [ 8.27272727],\n",
              "       [ 8.36363636],\n",
              "       [ 8.45454545],\n",
              "       [ 8.54545455],\n",
              "       [ 8.63636364],\n",
              "       [ 8.72727273],\n",
              "       [ 8.81818182],\n",
              "       [ 8.90909091],\n",
              "       [ 9.        ],\n",
              "       [ 9.09090909],\n",
              "       [ 9.18181818],\n",
              "       [ 9.27272727],\n",
              "       [ 9.36363636],\n",
              "       [ 9.45454545],\n",
              "       [ 9.54545455],\n",
              "       [ 9.63636364],\n",
              "       [ 9.72727273],\n",
              "       [ 9.81818182],\n",
              "       [ 9.90909091],\n",
              "       [10.        ]])"
            ]
          },
          "metadata": {},
          "execution_count": 2
        }
      ]
    },
    {
      "cell_type": "code",
      "source": [
        "model = Sequential()\n",
        "model.add(Dense(1, input_dim=1, activation='linear'))"
      ],
      "metadata": {
        "colab": {
          "base_uri": "https://localhost:8080/"
        },
        "id": "7P3OQBcdx2c_",
        "outputId": "d07e1044-b815-44ee-ead6-291e9b09ac88"
      },
      "execution_count": 3,
      "outputs": [
        {
          "output_type": "stream",
          "name": "stderr",
          "text": [
            "/usr/local/lib/python3.11/dist-packages/keras/src/layers/core/dense.py:87: UserWarning: Do not pass an `input_shape`/`input_dim` argument to a layer. When using Sequential models, prefer using an `Input(shape)` object as the first layer in the model instead.\n",
            "  super().__init__(activity_regularizer=activity_regularizer, **kwargs)\n"
          ]
        }
      ]
    },
    {
      "cell_type": "code",
      "source": [
        "model.compile(optimizer='sgd', loss='mse', metrics=['accuracy'])"
      ],
      "metadata": {
        "id": "v7XT0YTqx8ZA"
      },
      "execution_count": 4,
      "outputs": []
    },
    {
      "cell_type": "code",
      "source": [
        "model.fit(X,y, epochs=10, verbose=1)\n",
        "pred = model.predict(X)"
      ],
      "metadata": {
        "colab": {
          "base_uri": "https://localhost:8080/"
        },
        "id": "Uf6XuA2JyBEk",
        "outputId": "6e96cf9d-d60b-4976-afed-e86d41310591"
      },
      "execution_count": 5,
      "outputs": [
        {
          "output_type": "stream",
          "name": "stdout",
          "text": [
            "Epoch 1/10\n",
            "\u001b[1m4/4\u001b[0m \u001b[32m━━━━━━━━━━━━━━━━━━━━\u001b[0m\u001b[37m\u001b[0m \u001b[1m1s\u001b[0m 10ms/step - accuracy: 0.0000e+00 - loss: 323.6317 \n",
            "Epoch 2/10\n",
            "\u001b[1m4/4\u001b[0m \u001b[32m━━━━━━━━━━━━━━━━━━━━\u001b[0m\u001b[37m\u001b[0m \u001b[1m0s\u001b[0m 9ms/step - accuracy: 0.0000e+00 - loss: 76.2669 \n",
            "Epoch 3/10\n",
            "\u001b[1m4/4\u001b[0m \u001b[32m━━━━━━━━━━━━━━━━━━━━\u001b[0m\u001b[37m\u001b[0m \u001b[1m0s\u001b[0m 10ms/step - accuracy: 0.0000e+00 - loss: 67.0644\n",
            "Epoch 4/10\n",
            "\u001b[1m4/4\u001b[0m \u001b[32m━━━━━━━━━━━━━━━━━━━━\u001b[0m\u001b[37m\u001b[0m \u001b[1m0s\u001b[0m 8ms/step - accuracy: 0.0000e+00 - loss: 69.2602 \n",
            "Epoch 5/10\n",
            "\u001b[1m4/4\u001b[0m \u001b[32m━━━━━━━━━━━━━━━━━━━━\u001b[0m\u001b[37m\u001b[0m \u001b[1m0s\u001b[0m 9ms/step - accuracy: 0.0000e+00 - loss: 67.9292 \n",
            "Epoch 6/10\n",
            "\u001b[1m4/4\u001b[0m \u001b[32m━━━━━━━━━━━━━━━━━━━━\u001b[0m\u001b[37m\u001b[0m \u001b[1m0s\u001b[0m 9ms/step - accuracy: 0.0000e+00 - loss: 60.8080 \n",
            "Epoch 7/10\n",
            "\u001b[1m4/4\u001b[0m \u001b[32m━━━━━━━━━━━━━━━━━━━━\u001b[0m\u001b[37m\u001b[0m \u001b[1m0s\u001b[0m 9ms/step - accuracy: 0.0000e+00 - loss: 60.4195 \n",
            "Epoch 8/10\n",
            "\u001b[1m4/4\u001b[0m \u001b[32m━━━━━━━━━━━━━━━━━━━━\u001b[0m\u001b[37m\u001b[0m \u001b[1m0s\u001b[0m 9ms/step - accuracy: 0.0000e+00 - loss: 58.3327 \n",
            "Epoch 9/10\n",
            "\u001b[1m4/4\u001b[0m \u001b[32m━━━━━━━━━━━━━━━━━━━━\u001b[0m\u001b[37m\u001b[0m \u001b[1m0s\u001b[0m 14ms/step - accuracy: 0.0000e+00 - loss: 58.4510\n",
            "Epoch 10/10\n",
            "\u001b[1m4/4\u001b[0m \u001b[32m━━━━━━━━━━━━━━━━━━━━\u001b[0m\u001b[37m\u001b[0m \u001b[1m0s\u001b[0m 10ms/step - accuracy: 0.0000e+00 - loss: 49.6467\n",
            "\u001b[1m4/4\u001b[0m \u001b[32m━━━━━━━━━━━━━━━━━━━━\u001b[0m\u001b[37m\u001b[0m \u001b[1m0s\u001b[0m 13ms/step\n"
          ]
        }
      ]
    },
    {
      "cell_type": "code",
      "source": [
        "plt.scatter(X, pred, label=\"Original\")\n",
        "plt.plot(X, pred, label=\"predicted data\")\n",
        "plt.show()"
      ],
      "metadata": {
        "colab": {
          "base_uri": "https://localhost:8080/",
          "height": 430
        },
        "id": "MtFNzX6_yENl",
        "outputId": "c0b1cc09-b1b5-4457-ded4-ed6667edce95"
      },
      "execution_count": 6,
      "outputs": [
        {
          "output_type": "display_data",
          "data": {
            "text/plain": [
              "<Figure size 640x480 with 1 Axes>"
            ],
            "image/png": "[encoded data removed]"
          },
          "metadata": {}
        }
      ]
    },
    {
      "cell_type": "code",
      "source": [
        "pred = model.predict(X)"
      ],
      "metadata": {
        "colab": {
          "base_uri": "https://localhost:8080/"
        },
        "id": "DGayR9xTyG7M",
        "outputId": "1e335101-3d95-4bd7-d3c4-c21ca25116c9"
      },
      "execution_count": 7,
      "outputs": [
        {
          "output_type": "stream",
          "name": "stdout",
          "text": [
            "\u001b[1m4/4\u001b[0m \u001b[32m━━━━━━━━━━━━━━━━━━━━\u001b[0m\u001b[37m\u001b[0m \u001b[1m0s\u001b[0m 7ms/step \n"
          ]
        }
      ]
    },
    {
      "cell_type": "code",
      "source": [],
      "metadata": {
        "id": "NuIa4rPayJM8"
      },
      "execution_count": null,
      "outputs": []
    }
  ]
}