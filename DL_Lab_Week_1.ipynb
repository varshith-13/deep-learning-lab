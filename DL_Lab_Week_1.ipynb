{
  "cells": [
    {
      "cell_type": "code",
      "execution_count": null,
      "metadata": {
        "colab": {
          "base_uri": "https://localhost:8080/"
        },
        "id": "oHIcmg96acVV",
        "outputId": "472e58e3-b53a-445d-f31f-8e0b1334b90d"
      },
      "outputs": [
        {
          "name": "stdout",
          "output_type": "stream",
          "text": [
            "[ 1.          1.09090909  1.18181818  1.27272727  1.36363636  1.45454545\n",
            "  1.54545455  1.63636364  1.72727273  1.81818182  1.90909091  2.\n",
            "  2.09090909  2.18181818  2.27272727  2.36363636  2.45454545  2.54545455\n",
            "  2.63636364  2.72727273  2.81818182  2.90909091  3.          3.09090909\n",
            "  3.18181818  3.27272727  3.36363636  3.45454545  3.54545455  3.63636364\n",
            "  3.72727273  3.81818182  3.90909091  4.          4.09090909  4.18181818\n",
            "  4.27272727  4.36363636  4.45454545  4.54545455  4.63636364  4.72727273\n",
            "  4.81818182  4.90909091  5.          5.09090909  5.18181818  5.27272727\n",
            "  5.36363636  5.45454545  5.54545455  5.63636364  5.72727273  5.81818182\n",
            "  5.90909091  6.          6.09090909  6.18181818  6.27272727  6.36363636\n",
            "  6.45454545  6.54545455  6.63636364  6.72727273  6.81818182  6.90909091\n",
            "  7.          7.09090909  7.18181818  7.27272727  7.36363636  7.45454545\n",
            "  7.54545455  7.63636364  7.72727273  7.81818182  7.90909091  8.\n",
            "  8.09090909  8.18181818  8.27272727  8.36363636  8.45454545  8.54545455\n",
            "  8.63636364  8.72727273  8.81818182  8.90909091  9.          9.09090909\n",
            "  9.18181818  9.27272727  9.36363636  9.45454545  9.54545455  9.63636364\n",
            "  9.72727273  9.81818182  9.90909091 10.        ]\n",
            "[ 71.87738863  77.38444731  84.25617647  90.16352623  97.08389073\n",
            " 103.02502258 108.76625239 115.03604273 121.21510687 128.25735413\n",
            " 134.70598959 140.22858317 146.28625944 152.55296317 159.34386585\n",
            " 165.53244839 172.24086699 178.56838661 184.25521237 190.78868549\n",
            " 196.68634039 203.57231141 209.64447261 215.99113204 221.86489242\n",
            " 228.40721951 234.64386853 241.12282275 247.30233117 252.959095\n",
            " 259.84758318 265.68066121 272.24955199 278.79515177 284.96879196\n",
            " 291.31266534 296.97664236 303.71168986 309.99375649 315.96756769\n",
            " 322.86238931 328.73973021 335.30888968 341.49780546 347.91154192\n",
            " 354.02231209 359.83732009 366.5778624  372.64713434 378.43434853\n",
            " 384.73827192 391.32311524 397.25111084 404.1822466  410.66391657\n",
            " 416.39548217 423.11950939 429.31297437 435.75209141 441.77706155\n",
            " 448.03787295 454.30325549 460.41872602 466.51884432 473.31846567\n",
            " 478.95666551 485.71760857 492.17405886 497.60028505 504.29354162\n",
            " 510.48779254 516.97811175 522.89324725 529.72416503 535.92987547\n",
            " 542.03010459 548.69858851 554.98737233 560.46301506 567.26726999\n",
            " 572.9999849  579.81102047 586.31274303 591.68023514 598.20822315\n",
            " 605.09205972 610.50592592 617.62282583 623.02229549 630.26467147\n",
            " 636.29732483 642.10685478 648.49461054 655.03075498 661.40682589\n",
            " 667.72942911 673.83593017 680.20406549 685.73303785 692.57939798]\n"
          ]
        }
      ],
      "source": [
        "import numpy as np\n",
        "import matplotlib.pyplot as plt\n",
        "from keras.models import Sequential\n",
        "from keras.layers import Dense\n",
        "\n",
        "X = np.linspace(1, 10, 100)\n",
        "y = 2*X+20+np.random.randn(100)\n",
        "print(f'{X}\\n{y}')"
      ]
    },
    {
      "cell_type": "code",
      "execution_count": 4,
      "metadata": {
        "colab": {
          "base_uri": "https://localhost:8080/"
        },
        "id": "WuGT2Z2Oe-bG",
        "outputId": "45282438-9458-4a53-c3d9-53883b7f240e"
      },
      "outputs": [
        {
          "data": {
            "text/plain": [
              "array([[ 1.        ],\n",
              "       [ 1.09090909],\n",
              "       [ 1.18181818],\n",
              "       [ 1.27272727],\n",
              "       [ 1.36363636],\n",
              "       [ 1.45454545],\n",
              "       [ 1.54545455],\n",
              "       [ 1.63636364],\n",
              "       [ 1.72727273],\n",
              "       [ 1.81818182],\n",
              "       [ 1.90909091],\n",
              "       [ 2.        ],\n",
              "       [ 2.09090909],\n",
              "       [ 2.18181818],\n",
              "       [ 2.27272727],\n",
              "       [ 2.36363636],\n",
              "       [ 2.45454545],\n",
              "       [ 2.54545455],\n",
              "       [ 2.63636364],\n",
              "       [ 2.72727273],\n",
              "       [ 2.81818182],\n",
              "       [ 2.90909091],\n",
              "       [ 3.        ],\n",
              "       [ 3.09090909],\n",
              "       [ 3.18181818],\n",
              "       [ 3.27272727],\n",
              "       [ 3.36363636],\n",
              "       [ 3.45454545],\n",
              "       [ 3.54545455],\n",
              "       [ 3.63636364],\n",
              "       [ 3.72727273],\n",
              "       [ 3.81818182],\n",
              "       [ 3.90909091],\n",
              "       [ 4.        ],\n",
              "       [ 4.09090909],\n",
              "       [ 4.18181818],\n",
              "       [ 4.27272727],\n",
              "       [ 4.36363636],\n",
              "       [ 4.45454545],\n",
              "       [ 4.54545455],\n",
              "       [ 4.63636364],\n",
              "       [ 4.72727273],\n",
              "       [ 4.81818182],\n",
              "       [ 4.90909091],\n",
              "       [ 5.        ],\n",
              "       [ 5.09090909],\n",
              "       [ 5.18181818],\n",
              "       [ 5.27272727],\n",
              "       [ 5.36363636],\n",
              "       [ 5.45454545],\n",
              "       [ 5.54545455],\n",
              "       [ 5.63636364],\n",
              "       [ 5.72727273],\n",
              "       [ 5.81818182],\n",
              "       [ 5.90909091],\n",
              "       [ 6.        ],\n",
              "       [ 6.09090909],\n",
              "       [ 6.18181818],\n",
              "       [ 6.27272727],\n",
              "       [ 6.36363636],\n",
              "       [ 6.45454545],\n",
              "       [ 6.54545455],\n",
              "       [ 6.63636364],\n",
              "       [ 6.72727273],\n",
              "       [ 6.81818182],\n",
              "       [ 6.90909091],\n",
              "       [ 7.        ],\n",
              "       [ 7.09090909],\n",
              "       [ 7.18181818],\n",
              "       [ 7.27272727],\n",
              "       [ 7.36363636],\n",
              "       [ 7.45454545],\n",
              "       [ 7.54545455],\n",
              "       [ 7.63636364],\n",
              "       [ 7.72727273],\n",
              "       [ 7.81818182],\n",
              "       [ 7.90909091],\n",
              "       [ 8.        ],\n",
              "       [ 8.09090909],\n",
              "       [ 8.18181818],\n",
              "       [ 8.27272727],\n",
              "       [ 8.36363636],\n",
              "       [ 8.45454545],\n",
              "       [ 8.54545455],\n",
              "       [ 8.63636364],\n",
              "       [ 8.72727273],\n",
              "       [ 8.81818182],\n",
              "       [ 8.90909091],\n",
              "       [ 9.        ],\n",
              "       [ 9.09090909],\n",
              "       [ 9.18181818],\n",
              "       [ 9.27272727],\n",
              "       [ 9.36363636],\n",
              "       [ 9.45454545],\n",
              "       [ 9.54545455],\n",
              "       [ 9.63636364],\n",
              "       [ 9.72727273],\n",
              "       [ 9.81818182],\n",
              "       [ 9.90909091],\n",
              "       [10.        ]])"
            ]
          },
          "execution_count": 4,
          "metadata": {},
          "output_type": "execute_result"
        }
      ],
      "source": [
        "X.reshape(-1, 1)"
      ]
    },
    {
      "cell_type": "code",
      "execution_count": 5,
      "metadata": {
        "colab": {
          "base_uri": "https://localhost:8080/"
        },
        "id": "Vyr8fKYKfkuO",
        "outputId": "ba04f521-6af5-4f71-9e71-3ce493dd241e"
      },
      "outputs": [
        {
          "name": "stderr",
          "output_type": "stream",
          "text": [
            "d:\\22EG107B03\\DL-Lab\\WEEK-2\\venv\\Lib\\site-packages\\keras\\src\\layers\\core\\dense.py:93: UserWarning: Do not pass an `input_shape`/`input_dim` argument to a layer. When using Sequential models, prefer using an `Input(shape)` object as the first layer in the model instead.\n",
            "  super().__init__(activity_regularizer=activity_regularizer, **kwargs)\n"
          ]
        }
      ],
      "source": [
        "model = Sequential()\n",
        "model.add(Dense(1, input_dim=1, activation='linear'))\n"
      ]
    },
    {
      "cell_type": "code",
      "execution_count": 6,
      "metadata": {
        "id": "6ZwB7wz8hJse"
      },
      "outputs": [],
      "source": [
        "model.compile(optimizer='sgd', loss='mse', metrics=['accuracy'])"
      ]
    },
    {
      "cell_type": "code",
      "execution_count": 10,
      "metadata": {
        "colab": {
          "base_uri": "https://localhost:8080/"
        },
        "id": "R5HHrBYBi2JP",
        "outputId": "ec58bf7a-d0ae-4b14-b97c-c18bf0968b9e"
      },
      "outputs": [
        {
          "name": "stdout",
          "output_type": "stream",
          "text": [
            "Epoch 1/10\n",
            "\u001b[1m4/4\u001b[0m \u001b[32m━━━━━━━━━━━━━━━━━━━━\u001b[0m\u001b[37m\u001b[0m \u001b[1m0s\u001b[0m 10ms/step - accuracy: 0.0000e+00 - loss: 9.6400 \n",
            "Epoch 2/10\n",
            "\u001b[1m4/4\u001b[0m \u001b[32m━━━━━━━━━━━━━━━━━━━━\u001b[0m\u001b[37m\u001b[0m \u001b[1m0s\u001b[0m 9ms/step - accuracy: 0.0000e+00 - loss: 10.5320 \n",
            "Epoch 3/10\n",
            "\u001b[1m4/4\u001b[0m \u001b[32m━━━━━━━━━━━━━━━━━━━━\u001b[0m\u001b[37m\u001b[0m \u001b[1m0s\u001b[0m 7ms/step - accuracy: 0.0000e+00 - loss: 8.8639  \n",
            "Epoch 4/10\n",
            "\u001b[1m4/4\u001b[0m \u001b[32m━━━━━━━━━━━━━━━━━━━━\u001b[0m\u001b[37m\u001b[0m \u001b[1m0s\u001b[0m 7ms/step - accuracy: 0.0000e+00 - loss: 8.6849 \n",
            "Epoch 5/10\n",
            "\u001b[1m4/4\u001b[0m \u001b[32m━━━━━━━━━━━━━━━━━━━━\u001b[0m\u001b[37m\u001b[0m \u001b[1m0s\u001b[0m 9ms/step - accuracy: 0.0000e+00 - loss: 7.6632 \n",
            "Epoch 6/10\n",
            "\u001b[1m4/4\u001b[0m \u001b[32m━━━━━━━━━━━━━━━━━━━━\u001b[0m\u001b[37m\u001b[0m \u001b[1m0s\u001b[0m 8ms/step - accuracy: 0.0000e+00 - loss: 7.5422 \n",
            "Epoch 7/10\n",
            "\u001b[1m4/4\u001b[0m \u001b[32m━━━━━━━━━━━━━━━━━━━━\u001b[0m\u001b[37m\u001b[0m \u001b[1m0s\u001b[0m 7ms/step - accuracy: 0.0000e+00 - loss: 6.9245 \n",
            "Epoch 8/10\n",
            "\u001b[1m4/4\u001b[0m \u001b[32m━━━━━━━━━━━━━━━━━━━━\u001b[0m\u001b[37m\u001b[0m \u001b[1m0s\u001b[0m 7ms/step - accuracy: 0.0000e+00 - loss: 7.2578 \n",
            "Epoch 9/10\n",
            "\u001b[1m4/4\u001b[0m \u001b[32m━━━━━━━━━━━━━━━━━━━━\u001b[0m\u001b[37m\u001b[0m \u001b[1m0s\u001b[0m 7ms/step - accuracy: 0.0000e+00 - loss: 6.1952 \n",
            "Epoch 10/10\n",
            "\u001b[1m4/4\u001b[0m \u001b[32m━━━━━━━━━━━━━━━━━━━━\u001b[0m\u001b[37m\u001b[0m \u001b[1m0s\u001b[0m 7ms/step - accuracy: 0.0000e+00 - loss: 6.4429 \n",
            "\u001b[1m4/4\u001b[0m \u001b[32m━━━━━━━━━━━━━━━━━━━━\u001b[0m\u001b[37m\u001b[0m \u001b[1m0s\u001b[0m 6ms/step \n"
          ]
        }
      ],
      "source": [
        "model.fit(X,y, epochs=10, verbose=1)\n",
        "pred = model.predict(X)"
      ]
    },
    {
      "cell_type": "code",
      "execution_count": 12,
      "metadata": {
        "colab": {
          "base_uri": "https://localhost:8080/",
          "height": 448
        },
        "id": "cYLYEcVCk7tP",
        "outputId": "246db8d9-f726-4a76-864b-1d159c9cc275"
      },
      "outputs": [
        {
          "data": {
            "image/png": "[encoded data removed]",
            "text/plain": [
              "<Figure size 640x480 with 1 Axes>"
            ]
          },
          "metadata": {},
          "output_type": "display_data"
        }
      ],
      "source": [
        "plt.scatter(X, pred, label=\"Original\")\n",
        "plt.plot(X, pred, label=\"predicted data\")\n",
        "plt.show()"
      ]
    },
    {
      "cell_type": "code",
      "execution_count": 9,
      "metadata": {
        "colab": {
          "base_uri": "https://localhost:8080/"
        },
        "id": "wSk35todl3Ig",
        "outputId": "24ec894e-4f46-4ab7-c65d-1a7cd2c6d79c"
      },
      "outputs": [
        {
          "name": "stdout",
          "output_type": "stream",
          "text": [
            "\u001b[1m4/4\u001b[0m \u001b[32m━━━━━━━━━━━━━━━━━━━━\u001b[0m\u001b[37m\u001b[0m \u001b[1m0s\u001b[0m 5ms/step \n"
          ]
        }
      ],
      "source": [
        "pred = model.predict(X)"
      ]
    }
  ],
  "metadata": {
    "colab": {
      "provenance": []
    },
    "kernelspec": {
      "display_name": "venv (3.11.9)",
      "language": "python",
      "name": "python3"
    },
    "language_info": {
      "codemirror_mode": {
        "name": "ipython",
        "version": 3
      },
      "file_extension": ".py",
      "mimetype": "text/x-python",
      "name": "python",
      "nbconvert_exporter": "python",
      "pygments_lexer": "ipython3",
      "version": "3.11.9"
    }
  },
  "nbformat": 4,
  "nbformat_minor": 0
}
